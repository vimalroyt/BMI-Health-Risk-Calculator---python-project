{
 "cells": [
  {
   "cell_type": "markdown",
   "id": "2e8a585a-4caf-4e72-96b9-9b4df8078a1d",
   "metadata": {},
   "source": [
    "## BMI & Health Risk Calculator (CLI App)"
   ]
  },
  {
   "cell_type": "code",
   "execution_count": 40,
   "id": "d1ac54da-8968-49fe-a07a-34d2cf6339fa",
   "metadata": {},
   "outputs": [
    {
     "name": "stdin",
     "output_type": "stream",
     "text": [
      "Enter your weight in kg:  50\n",
      "Enter your height in cm:  170\n"
     ]
    },
    {
     "name": "stdout",
     "output_type": "stream",
     "text": [
      "Your BMI is: 17.30\n",
      "Health Risk : Possible nutritional deficiency\n"
     ]
    }
   ],
   "source": [
    "## BMI formula- weight/height(m)square\n",
    "weight=float(input(\"Enter your weight in kg: \"))\n",
    "height_cm=float(input(\"Enter your height in cm: \"))\n",
    "#Convert height to meters and calculate BMI\n",
    "height_m=height_cm/100 # Formula for converting cm to m\n",
    "bmi=weight/(height_m**2) # BMI formula\n",
    "print(f\"Your BMI is: {bmi:.2f}\") #.numberf - mean how many numbers you want to display after dicimal.\n",
    "'''BMI Categories & Health Risk Criteria:\n",
    "BMI < 18.5 → Category: Underweight\n",
    "➤ Health Risk: Possible nutritional deficiency\n",
    "\n",
    "BMI between 18.5 and 24.9 → Category: Normal\n",
    "➤ Health Risk: Low risk\n",
    "\n",
    "BMI between 25.0 and 29.9 → Category: Overweight\n",
    "➤ Health Risk: Increased risk\n",
    "\n",
    "BMI ≥ 30.0 → Category: Obese\n",
    "➤ Health Risk: High risk'''\n",
    "if bmi >=30:\n",
    "    print(\"Health Risk : High risk\")\n",
    "elif bmi >=25.0 and bmi <= 29.9:\n",
    "    print(\"Health Risk : Increased risk\")\n",
    "elif bmi >=18.5 and bmi <=24.9:\n",
    "    print(\"Health Risk : low risk\")\n",
    "else:\n",
    "    print(\"Health Risk : Possible nutritional deficiency\")"
   ]
  },
  {
   "cell_type": "code",
   "execution_count": null,
   "id": "3e1cc6ed-e0a9-491c-9b33-2521fd682a6b",
   "metadata": {},
   "outputs": [],
   "source": []
  },
  {
   "cell_type": "code",
   "execution_count": 67,
   "id": "79f6fbd8-28d1-4adb-97ce-d6cf1e70f25e",
   "metadata": {},
   "outputs": [],
   "source": [
    "# now writing code from scratch \n",
    "# this time i'm going to put the BMI function into a parameterized function\n",
    "\n",
    "def bmi_calculator_function(height_cm,weight_kg):\n",
    "    height_m=height_cm/100\n",
    "    bmi=weight_kg/(height_m**2)\n",
    "    if bmi>=30:\n",
    "        print(\"Health Risk is very high\")\n",
    "    elif bmi >=25 and bmi <=29.9:\n",
    "        print(\"Health risk increased\")\n",
    "    elif bmi >= 18.5 and bmi <=24.9:\n",
    "        print(\"Low health risk\")\n",
    "    else:\n",
    "        print(\"Possible nutritional deficiency\")"
   ]
  },
  {
   "cell_type": "code",
   "execution_count": 68,
   "id": "70146b55-b1e6-4363-99de-8f2d64f1a815",
   "metadata": {},
   "outputs": [
    {
     "name": "stdout",
     "output_type": "stream",
     "text": [
      "Health Risk is very high\n"
     ]
    }
   ],
   "source": [
    "bmi_calculator_function(170,150)"
   ]
  },
  {
   "cell_type": "code",
   "execution_count": 71,
   "id": "a05a8fb8-8471-4fb1-a158-3eaa089f73e7",
   "metadata": {},
   "outputs": [
    {
     "name": "stdin",
     "output_type": "stream",
     "text": [
      "Enter height_cm here:  155.5\n",
      "Enter weight_kg here:  49.5\n"
     ]
    },
    {
     "name": "stdout",
     "output_type": "stream",
     "text": [
      "Your BMI is 20.47 and Low health risk\n"
     ]
    }
   ],
   "source": [
    "#Now since this parameterized function doesn't allow the user to put what first (weight or height) \n",
    "# that is why let's create the function with no argument\n",
    "def bmi_calculator_function_with_input():\n",
    "    height_cm=float(input(\"Enter height_cm here: \"))\n",
    "    weight_kg=float(input(\"Enter weight_kg here: \"))\n",
    "    height_m=height_cm/100\n",
    "    bmi=weight_kg/(height_m**2)\n",
    "    if bmi>=30:\n",
    "        print(f\"Your BMI is {bmi:.2f} and Health Risk is very high\")\n",
    "    elif bmi >=25 and bmi <=29.9:\n",
    "        print(f\"Your BMI is {bmi:.2f} and Health risk increased\")\n",
    "    elif bmi >= 18.5 and bmi <=24.9:\n",
    "        print(f\"Your BMI is {bmi:.2f} and Low health risk\")\n",
    "    else:\n",
    "        print(\"Possible nutritional deficiency\")\n",
    "\n",
    "#let's call the function\n",
    "bmi_calculator_function_with_input()"
   ]
  },
  {
   "cell_type": "code",
   "execution_count": null,
   "id": "6201a801-fa28-4f76-924f-9bc44402b970",
   "metadata": {},
   "outputs": [],
   "source": []
  }
 ],
 "metadata": {
  "kernelspec": {
   "display_name": "Python 3 (ipykernel)",
   "language": "python",
   "name": "python3"
  },
  "language_info": {
   "codemirror_mode": {
    "name": "ipython",
    "version": 3
   },
   "file_extension": ".py",
   "mimetype": "text/x-python",
   "name": "python",
   "nbconvert_exporter": "python",
   "pygments_lexer": "ipython3",
   "version": "3.12.7"
  }
 },
 "nbformat": 4,
 "nbformat_minor": 5
}
